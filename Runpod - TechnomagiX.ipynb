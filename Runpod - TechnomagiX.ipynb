{
 "cells": [
  {
   "cell_type": "markdown",
   "id": "e600658f",
   "metadata": {},
   "source": [
    "### Контакты\n",
    "Видеоинструкцию к этому блокноту смотрите на канале Technomagix https://youtu.be/D2uQufx3W94\n",
    "Телеграм с полезной информацией о Stable Diffusion https://t.me/alchemist_tm\n",
    "Чат для взаимопомощи и обсуждения новостей https://t.me/+EOhMG42mlywxNWMy\n",
    "Сайт проекта Technomagix https://www.technomagix.space/"
   ]
  },
  {
   "cell_type": "markdown",
   "id": "0bb3fc3f",
   "metadata": {},
   "source": [
    "### Шаблоны для работы с файлами в Runpod | Stable Diffusion"
   ]
  },
  {
   "cell_type": "code",
   "execution_count": null,
   "id": "e2126998",
   "metadata": {},
   "outputs": [],
   "source": [
    "# Проверка GPU\n",
    "!nvidia-smi --query-gpu=gpu_name --format=csv\n",
    "!nvidia-smi"
   ]
  },
  {
   "cell_type": "code",
   "execution_count": null,
   "id": "719afa13",
   "metadata": {},
   "outputs": [],
   "source": [
    "# Обновляем Automatic Webui\n",
    "%cd /workspace/stable-diffusion-webui\n",
    "!git pull"
   ]
  },
  {
   "cell_type": "code",
   "execution_count": null,
   "id": "158939cf",
   "metadata": {},
   "outputs": [],
   "source": [
    "# Скачиваем модель с HuggingFace\n",
    "\n",
    "# Устанавливаем библиотеку для взаимодействия с HuggingFace Hub\n",
    "!pip install huggingface_hub\n",
    "\n",
    "# Авторизуемся в HuggingFace\n",
    "from huggingface_hub import notebook_login\n",
    "notebook_login()\n",
    "\n",
    "# Скачиваем модель sd-v1-5-inpainting\n",
    "from huggingface_hub import hf_hub_download\n",
    "# sd-v1-5-inpainting\n",
    "hf_hub_download(repo_id=\"runwayml/stable-diffusion-inpainting\", filename=\"sd-v1-5-inpainting.ckpt\")\n",
    "\n",
    "# Ссылки на другие модели:\n",
    "# stabilityai/stable-diffusion-2-inpainting\n",
    "# hf_hub_download(repo_id=\"stabilityai/stable-diffusion-2-inpainting\", filename=\"512-inpainting-ema.ckpt\")\n",
    "# dreamlike-art/dreamlike-diffusion-1.0\n",
    "# hf_hub_download(repo_id=\"dreamlike-art/dreamlike-diffusion-1.0\", filename=\"dreamlike-diffusion-1.0.ckpt\")\n",
    "# dreamlike-art/dreamlike-photoreal-2.0\n",
    "# hf_hub_download(repo_id=\"dreamlike-art/dreamlike-photoreal-2.0\", filename=\"dreamlike-photoreal-2.0.ckpt\")\n",
    "# prompthero/openjourney\n",
    "# hf_hub_download(repo_id=\"prompthero/openjourney\", filename=\"mdjrny-v4.ckpt\")\n",
    "# prompthero/openjourney-v2\n",
    "# hf_hub_download(repo_id=\"prompthero/openjourney-v2\", filename=\"openjourney-v2.ckpt\")\n",
    "# nitrosocke/redshift-diffusion\n",
    "# hf_hub_download(repo_id=\"nitrosocke/redshift-diffusion\", filename=\"redshift-diffusion-v1.ckpt\")\n",
    "# nitrosocke/Future-Diffusion\n",
    "# hf_hub_download(repo_id=\"nitrosocke/Future-Diffusion\", filename=\"future-diffusion-v1.ckpt\")\n",
    "# hf_hub_download(repo_id=\"nitrosocke/Future-Diffusion\", filename=\"future-diffusion-v1.yaml\")\n",
    "# nitrosocke/Arcane-Diffusion\n",
    "# hf_hub_download(repo_id=\"nitrosocke/Arcane-Diffusion\", filename=\"arcane-diffusion-v3.ckpt\")\n",
    "# wavymulder/Analog-Diffusion\n",
    "# hf_hub_download(repo_id=\"wavymulder/Analog-Diffusion\", filename=\"analog-diffusion-1.0.ckpt\")\n",
    "\n",
    "\n",
    "# Копируем файл из временной папки в рабочую папку\n",
    "old_path = ''\n",
    "new_path = '/workspace/stable-diffusion-webui/models/Stable-diffusion/'\n",
    "!cp '{old_path}' '{new_path}'"
   ]
  },
  {
   "cell_type": "code",
   "execution_count": null,
   "id": "032f2c68",
   "metadata": {},
   "outputs": [],
   "source": [
    "# Скачивание файла с гугл диска по ID файла\n",
    "%pip install gdown\n",
    "file_id = 1QTUATU3WbYIWX-6ECRypCi1z9TOsXIhG\n",
    "!gdown https://drive.google.com/uc?id=\"{file_id}\""
   ]
  },
  {
   "cell_type": "code",
   "execution_count": null,
   "id": "b81c484e",
   "metadata": {},
   "outputs": [],
   "source": [
    "# Копирование с RunPod на гугл диск при помощи google colab\n",
    "# Ссылка на блокнот в колабе - https://colab.research.google.com/drive/13UMW1lbuxVRZOzZeHQfQPmZ05KHWNw7f?usp=sharing\n",
    "\n",
    "# Устанавливаем runpodctl (запускать черерз терминал)\n",
    "wget --quiet --show-progress https://github.com/Run-Pod/runpodctl/releases/download/v1.6.1/runpodctl-linux-amd -O runpodctl && chmod +x runpodctl\n",
    "# Получаем пароль на скачивание файла\n",
    "runpodctl send sd-v1-5-inpainting.ckpt"
   ]
  },
  {
   "cell_type": "code",
   "execution_count": null,
   "id": "1ccbbd0a",
   "metadata": {},
   "outputs": [],
   "source": [
    "# Скачиваем модель через торрент\n",
    "\n",
    "# Получаем список файлов из торрента(на примере NovelAI leak)\n",
    "!apt update\n",
    "!apt install -y aria2\n",
    "metalink = 'magnet:?xt=urn:btih:5bde442da86265b670a3e5ea3163afad2c6f8ecc&dn=novelaileak&tr=udp%3A%2F%2Ftracker.opentrackr.org%3A1337%2Fannounce&tr=udp%3A%2F%2F9.rarbg.com%3A2810%2Fannounce&tr=udp%3A%2F%2Ftracker.openbittorrent.com%3A6969%2Fannounce&tr=http%3A%2F%2Ftracker.openbittorrent.com%3A80%2Fannounce&tr=udp%3A%2F%2Fopentracker.i2p.rocks%3A6969%2Fannounce'\n",
    "import re\n",
    "infohash = re.search(\"^magnet:\\?xt=urn:btih:(.*?)&.*?$\", metalink).group(1)\n",
    "import subprocess\n",
    "tmp_dir = subprocess.check_output(['mktemp', '-d']).decode('ascii').strip('\\n')\n",
    "%mkdir /workspace/temp/\n",
    "%cd /workspace/temp/\n",
    "!aria2c -d . --bt-metadata-only=true --bt-save-metadata=true --bt-max-peers=120 --summary-interval=0 --file-allocation=none \"{metalink}\"\n",
    "!aria2c --show-files=true \"{infohash}.torrent\"\n",
    "# Скачиваем файлы\n",
    "!aria2c --select-file=64,65 --seed-time=0 --max-overall-upload-limit=1K --bt-max-peers=120 --summary-interval=0 --file-allocation=none \"{infohash}.torrent\"\n",
    "# Перемещаем файлы\n",
    "!mv \"/workspace/temp/novelaileak/stableckpt/animefull-final-pruned/config.yaml\" \"/workspace/stable-diffusion-webui/models/Stable-diffusion/novelai-animefull-final-pruned.yaml\"\n",
    "!mv \"/workspace/temp/novelaileak/stableckpt/animefull-final-pruned/model.ckpt\" \"/workspace/stable-diffusion-webui/models/Stable-diffusion/novelai-animefull-final-pruned.ckpt\""
   ]
  },
  {
   "cell_type": "code",
   "execution_count": null,
   "id": "adf016d6",
   "metadata": {},
   "outputs": [],
   "source": [
    "# Скачиваем файлы с github\n",
    "\n",
    "# https://github.com/JoePenna/Dreambooth-Stable-Diffusion/blob/main/dreambooth_runpod_joepenna.ipynb\n",
    "# Cкачаем Regularization Images\n",
    "dataset=\"person_ddim\" #\"man_euler\", \"man_unsplash\", \"person_ddim\", \"woman_ddim\", \"blonde_woman\"\n",
    "!git clone https://github.com/djbielejeski/Stable-Diffusion-Regularization-Images-{dataset}.git\n",
    "# Создаем новую директорию\n",
    "!mkdir -p regularization_images/{dataset}\n",
    "# Переместим файлы\n",
    "!mv -v Stable-Diffusion-Regularization-Images-{dataset}/{dataset}/*.* regularization_images/{dataset}"
   ]
  }
 ],
 "metadata": {
  "kernelspec": {
   "display_name": "Python 3 (ipykernel)",
   "language": "python",
   "name": "python3"
  },
  "language_info": {
   "codemirror_mode": {
    "name": "ipython",
    "version": 3
   },
   "file_extension": ".py",
   "mimetype": "text/x-python",
   "name": "python",
   "nbconvert_exporter": "python",
   "pygments_lexer": "ipython3",
   "version": "3.9.12"
  }
 },
 "nbformat": 4,
 "nbformat_minor": 5
}
