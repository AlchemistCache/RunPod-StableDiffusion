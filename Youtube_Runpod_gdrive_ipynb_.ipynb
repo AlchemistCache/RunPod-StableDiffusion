{
  "nbformat": 4,
  "nbformat_minor": 0,
  "metadata": {
    "colab": {
      "private_outputs": true,
      "provenance": [],
      "include_colab_link": true
    },
    "kernelspec": {
      "name": "python3",
      "display_name": "Python 3"
    },
    "language_info": {
      "name": "python"
    }
  },
  "cells": [
    {
      "cell_type": "markdown",
      "metadata": {
        "id": "view-in-github",
        "colab_type": "text"
      },
      "source": [
        "<a href=\"https://colab.research.google.com/github/AlchemistCache/RunPod-StableDiffusion/blob/main/Youtube_Runpod_gdrive_ipynb%22.ipynb\" target=\"_parent\"><img src=\"https://colab.research.google.com/assets/colab-badge.svg\" alt=\"Open In Colab\"/></a>"
      ]
    },
    {
      "cell_type": "markdown",
      "source": [
        "Блокнот для обмена файлами между [RunPod](https://runpod.io?ref=27hxibcy) и вашим гугл диском. Подробности читайте на странице [TechnoMagix.com](https://TechnoMagix.com). *Блокнот основан на [runpodctl](https://github.com/runpod/runpodctl)*"
      ],
      "metadata": {
        "id": "UA5cWE5nKPYJ"
      }
    },
    {
      "cell_type": "markdown",
      "source": [
        "<div align=\"left\">\n",
        "  <a href=\"https://www.youtube.com/watch?v=D2uQufx3W94\"><img src=\"https://img.youtube.com/vi/D2uQufx3W94/0.jpg\" alt=\"Stable Diffusion in RunPod\"></a>\n",
        "</div>"
      ],
      "metadata": {
        "id": "8LzqOMyJimou"
      }
    },
    {
      "cell_type": "code",
      "execution_count": null,
      "metadata": {
        "id": "RF1bMqhBOpSZ",
        "cellView": "form"
      },
      "outputs": [],
      "source": [
        "#@title Подключить гугл диск\n",
        "from google.colab import drive\n",
        "drive.mount('/content/drive')\n",
        "!rm -rf /content/sample_data/\n",
        "\n",
        "#Установить runpodctl\n",
        "!wget --quiet --show-progress https://github.com/Run-Pod/runpodctl/releases/download/v1.9.0/runpodctl-linux-amd -O runpodctl\n",
        "!chmod +x runpodctl\n",
        "!cp runpodctl /usr/bin/runpodctl"
      ]
    },
    {
      "cell_type": "code",
      "source": [
        "#@title Получить файл на гугл диск\n",
        "Код = \"\" #@param {type:\"string\"}\n",
        "\n",
        "%cd /content/drive/MyDrive\n",
        "!runpodctl receive {Код}"
      ],
      "metadata": {
        "id": "IwtfY_3bQVqB",
        "cellView": "form"
      },
      "execution_count": null,
      "outputs": []
    },
    {
      "cell_type": "code",
      "source": [
        "#@title Отправить файл в RunPod\n",
        "Путь = \"/content/drive/MyDrive/sd-v1-5-inpainting.ckpt\" #@param {type:\"string\"}\n",
        "\n",
        "%cd /content/drive/MyDrive\n",
        "!runpodctl send {Путь}"
      ],
      "metadata": {
        "id": "f7aFXWHxvplb",
        "cellView": "form"
      },
      "execution_count": null,
      "outputs": []
    },
    {
      "cell_type": "code",
      "source": [
        "#@title Завершить сеанс\n",
        "exit()"
      ],
      "metadata": {
        "cellView": "form",
        "id": "HaEJ_85q_C69"
      },
      "execution_count": null,
      "outputs": []
    }
  ]
}
